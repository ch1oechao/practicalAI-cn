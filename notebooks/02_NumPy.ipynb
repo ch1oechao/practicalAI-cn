{
  "nbformat": 4,
  "nbformat_minor": 0,
  "metadata": {
    "colab": {
      "name": "02_NumPy",
      "provenance": [],
      "toc_visible": true
    },
    "kernelspec": {
      "name": "python3",
      "display_name": "Python 3"
    }
  },
  "cells": [
    {
      "metadata": {
        "id": "bOChJSNXtC9g"
      },
      "cell_type": "markdown",
      "source": [
        "# NumPy"
      ]
    },
    {
      "metadata": {
        "id": "OLIxEDq6VhvZ"
      },
      "cell_type": "markdown",
      "source": [
        "<img src=\"https://raw.githubusercontent.com/LisonEvf/practicalAI-cn/master/images/logo.png\" width=150>\n",
        "\n",
        "在本课中，我们将学习使用NumPy包进行数值分析的基础知识。\n",
        "\n",
        "<img src=\"https://raw.githubusercontent.com/LisonEvf/practicalAI-cn/master/images/numpy.png\" width=300>\n",
        "\n",
        "\n"
      ]
    },
    {
      "metadata": {
        "id": "VoMq0eFRvugb"
      },
      "cell_type": "markdown",
      "source": [
        "# NumPy 基础知识"
      ]
    },
    {
      "metadata": {
        "id": "0-dXQiLlTIgz"
      },
      "cell_type": "code",
      "source": [
        "import numpy as np"
      ],
      "execution_count": 1,
      "outputs": []
    },
    {
      "metadata": {
        "id": "bhaOPJV7WA0m"
      },
      "cell_type": "code",
      "source": [
        "# 使得多次生成的随机数相同\n",
        "np.random.seed(seed=1234)"
      ],
      "execution_count": 2,
      "outputs": []
    },
    {
      "metadata": {
        "id": "23tSlin9aWZ8",
        "outputId": "56e77301-78b0-41ee-e5dc-f322a314aa50",
        "colab": {
          "base_uri": "https://localhost:8080/"
        }
      },
      "cell_type": "code",
      "source": [
        "# 标量（scalars）\n",
        "x = np.array(6) # scalar\n",
        "print (\"x: \", x)\n",
        "print(\"x ndim: \", x.ndim)\n",
        "print(\"x shape:\", x.shape)\n",
        "print(\"x size: \", x.size)\n",
        "print (\"x dtype: \", x.dtype)"
      ],
      "execution_count": 3,
      "outputs": [
        {
          "output_type": "stream",
          "name": "stdout",
          "text": [
            "x:  6\n",
            "x ndim:  0\n",
            "x shape: ()\n",
            "x size:  1\n",
            "x dtype:  int64\n"
          ]
        }
      ]
    },
    {
      "metadata": {
        "id": "ugIZprdIabFF",
        "outputId": "8f6e4f16-6e68-4230-87ab-a4d46e5f1712",
        "colab": {
          "base_uri": "https://localhost:8080/"
        }
      },
      "cell_type": "code",
      "source": [
        "# 一维数组（array）\n",
        "x = np.array([1.3 , 2.2 , 1.7])\n",
        "print (\"x: \", x)\n",
        "print(\"x ndim: \", x.ndim)\n",
        "print(\"x shape:\", x.shape)\n",
        "print(\"x size: \", x.size)\n",
        "print (\"x dtype: \", x.dtype) # notice the float datatype"
      ],
      "execution_count": 4,
      "outputs": [
        {
          "output_type": "stream",
          "name": "stdout",
          "text": [
            "x:  [1.3 2.2 1.7]\n",
            "x ndim:  1\n",
            "x shape: (3,)\n",
            "x size:  3\n",
            "x dtype:  float64\n"
          ]
        }
      ]
    },
    {
      "metadata": {
        "id": "SQI-T_4MbE9J",
        "outputId": "798be5a6-14d4-46f1-a039-97327a70144a",
        "colab": {
          "base_uri": "https://localhost:8080/",
          "height": 152
        }
      },
      "cell_type": "code",
      "source": [
        "# 三维数组（矩阵（matrix））\n",
        "x = np.array([[[1,2,3], [4,5,6], [7,8,9]]])\n",
        "print (\"x:\\n\", x)\n",
        "print(\"x ndim: \", x.ndim)\n",
        "print(\"x shape:\", x.shape)\n",
        "print(\"x size: \", x.size)\n",
        "print (\"x dtype: \", x.dtype)"
      ],
      "execution_count": null,
      "outputs": [
        {
          "output_type": "stream",
          "text": [
            "x:\n",
            " [[[1 2 3]\n",
            "  [4 5 6]\n",
            "  [7 8 9]]]\n",
            "x ndim:  3\n",
            "x shape: (1, 3, 3)\n",
            "x size:  9\n",
            "x dtype:  int64\n"
          ],
          "name": "stdout"
        }
      ]
    },
    {
      "metadata": {
        "id": "z2Qf8EKZln9j",
        "outputId": "1649f867-0766-44c8-dc66-652a2b5164dd",
        "colab": {
          "base_uri": "https://localhost:8080/"
        }
      },
      "cell_type": "code",
      "source": [
        "# 函数\n",
        "print (\"np.zeros((2,2)):\\n\", np.zeros((2,2)))\n",
        "print (\"np.ones((2,2)):\\n\", np.ones((2,2)))\n",
        "print (\"np.eye((5)):\\n\", np.eye((5)))\n",
        "print (\"np.random.random((2,2)):\\n\", np.random.random((2,2)))"
      ],
      "execution_count": 5,
      "outputs": [
        {
          "output_type": "stream",
          "name": "stdout",
          "text": [
            "np.zeros((2,2)):\n",
            " [[0. 0.]\n",
            " [0. 0.]]\n",
            "np.ones((2,2)):\n",
            " [[1. 1.]\n",
            " [1. 1.]]\n",
            "np.eye((5)):\n",
            " [[1. 0. 0. 0. 0.]\n",
            " [0. 1. 0. 0. 0.]\n",
            " [0. 0. 1. 0. 0.]\n",
            " [0. 0. 0. 1. 0.]\n",
            " [0. 0. 0. 0. 1.]]\n",
            "np.random.random((2,2)):\n",
            " [[0.19151945 0.62210877]\n",
            " [0.43772774 0.78535858]]\n"
          ]
        }
      ]
    },
    {
      "cell_type": "code",
      "source": [
        "import numpy as np\n",
        "\n",
        "# Generate a random float between 0 and 1\n",
        "random_float = np.random.rand()\n",
        "print(random_float)"
      ],
      "metadata": {
        "colab": {
          "base_uri": "https://localhost:8080/"
        },
        "id": "syfjZLYUqsgY",
        "outputId": "f3f92cfd-86d0-4519-e98f-c326a6be32ba"
      },
      "execution_count": 6,
      "outputs": [
        {
          "output_type": "stream",
          "name": "stdout",
          "text": [
            "0.7799758081188035\n"
          ]
        }
      ]
    },
    {
      "cell_type": "code",
      "source": [
        "# Create a 2x3 array of random floats between 0 and 1\n",
        "random_array = np.random.rand(2, 3)\n",
        "print(random_array)"
      ],
      "metadata": {
        "colab": {
          "base_uri": "https://localhost:8080/"
        },
        "id": "lRB_SDAzqvbX",
        "outputId": "fc34d2c4-9c06-46e2-80c5-450df17568d5"
      },
      "execution_count": 7,
      "outputs": [
        {
          "output_type": "stream",
          "name": "stdout",
          "text": [
            "[[0.27259261 0.27646426 0.80187218]\n",
            " [0.95813935 0.87593263 0.35781727]]\n"
          ]
        }
      ]
    },
    {
      "cell_type": "code",
      "source": [
        "# Generate a random integer between 1 and 10\n",
        "random_int = np.random.randint(1, 100)\n",
        "print(random_int)"
      ],
      "metadata": {
        "colab": {
          "base_uri": "https://localhost:8080/"
        },
        "id": "BkwH3DQ-q1OV",
        "outputId": "d53025e7-fe85-4313-a923-3262bc4dbba3"
      },
      "execution_count": 9,
      "outputs": [
        {
          "output_type": "stream",
          "name": "stdout",
          "text": [
            "93\n"
          ]
        }
      ]
    },
    {
      "cell_type": "code",
      "source": [
        "# Shuffle an array\n",
        "array = np.array([1, 2, 3, 4, 5])\n",
        "np.random.shuffle(array)\n",
        "print(array)"
      ],
      "metadata": {
        "colab": {
          "base_uri": "https://localhost:8080/"
        },
        "id": "97--7EuvrFou",
        "outputId": "07012448-3e09-4e50-9a3a-b902a1d06ff7"
      },
      "execution_count": 10,
      "outputs": [
        {
          "output_type": "stream",
          "name": "stdout",
          "text": [
            "[4 5 3 2 1]\n"
          ]
        }
      ]
    },
    {
      "cell_type": "code",
      "source": [
        "# Draw 5 samples from a normal distribution with mean 0 and standard deviation 1\n",
        "samples = np.random.normal(0, 1, 5)\n",
        "print(samples)"
      ],
      "metadata": {
        "colab": {
          "base_uri": "https://localhost:8080/"
        },
        "id": "XhRxMQ5_rJBj",
        "outputId": "2079d6a5-bc55-4872-a3c9-7968acb749a5"
      },
      "execution_count": 11,
      "outputs": [
        {
          "output_type": "stream",
          "name": "stdout",
          "text": [
            "[ 0.1458091   2.89409095 -0.30426018  0.861661   -0.68992667]\n"
          ]
        }
      ]
    },
    {
      "metadata": {
        "id": "qVD-MCiCdcV9"
      },
      "cell_type": "markdown",
      "source": [
        "# 索引"
      ]
    },
    {
      "metadata": {
        "id": "vyt36kFOcVDX",
        "outputId": "3d4a9634-e6f1-4a05-f58d-f07eefaf3f72",
        "colab": {
          "base_uri": "https://localhost:8080/"
        }
      },
      "cell_type": "code",
      "source": [
        "# 索引（indexing）\n",
        "x = np.array([1, 2, 3])\n",
        "print (\"x[0]: \", x[0])\n",
        "x[0] = 0\n",
        "print (\"x: \", x)"
      ],
      "execution_count": 12,
      "outputs": [
        {
          "output_type": "stream",
          "name": "stdout",
          "text": [
            "x[0]:  1\n",
            "x:  [0 2 3]\n"
          ]
        }
      ]
    },
    {
      "metadata": {
        "id": "qxHww0didni6",
        "outputId": "3f4ec2f1-9d1b-4dcf-a454-29bcdab31367",
        "colab": {
          "base_uri": "https://localhost:8080/"
        }
      },
      "cell_type": "code",
      "source": [
        "# 切片（slicing）\n",
        "x = np.array([[1,2,3,4], [5,6,7,8], [9,10,11,12]])\n",
        "print (x)\n",
        "print (\"x column 1: \", x[:, 1])\n",
        "print (\"x row 0: \", x[0, :])\n",
        "print (\"x rows 0,1,2 & cols 1,2: \\n\", x[:3, 1:3])"
      ],
      "execution_count": 13,
      "outputs": [
        {
          "output_type": "stream",
          "name": "stdout",
          "text": [
            "[[ 1  2  3  4]\n",
            " [ 5  6  7  8]\n",
            " [ 9 10 11 12]]\n",
            "x column 1:  [ 2  6 10]\n",
            "x row 0:  [1 2 3 4]\n",
            "x rows 0,1,2 & cols 1,2: \n",
            " [[ 2  3]\n",
            " [ 6  7]\n",
            " [10 11]]\n"
          ]
        }
      ]
    },
    {
      "metadata": {
        "id": "A52pzB9idyDE",
        "outputId": "353c196d-8c8f-4fb5-86ee-e51a00b3fb78",
        "colab": {
          "base_uri": "https://localhost:8080/"
        }
      },
      "cell_type": "code",
      "source": [
        "# 整数数组索引\n",
        "print(x)\n",
        "\n",
        "print(len(x))\n",
        "rows_to_get = np.arange(len(x))\n",
        "print (\"rows_to_get: \", rows_to_get)\n",
        "\n",
        "cols_to_get = np.array([0, 2, 1])\n",
        "print (\"cols_to_get: \", cols_to_get)\n",
        "\n",
        "print (\"indexed values: \", x[rows_to_get, cols_to_get])"
      ],
      "execution_count": 15,
      "outputs": [
        {
          "output_type": "stream",
          "name": "stdout",
          "text": [
            "[[ 1  2  3  4]\n",
            " [ 5  6  7  8]\n",
            " [ 9 10 11 12]]\n",
            "3\n",
            "rows_to_get:  [0 1 2]\n",
            "cols_to_get:  [0 2 1]\n",
            "indexed values:  [ 1  7 10]\n"
          ]
        }
      ]
    },
    {
      "metadata": {
        "id": "_R7O5WsVfDij",
        "outputId": "94d0e00e-2900-4bbf-d577-10769a742fe3",
        "colab": {
          "base_uri": "https://localhost:8080/"
        }
      },
      "cell_type": "code",
      "source": [
        "# 布尔数组索引\n",
        "x = np.array([[1,2], [3, 4], [5, 6]])\n",
        "print (\"x:\\n\", x)\n",
        "\n",
        "print (\"x > 2:\\n\", x > 2)\n",
        "\n",
        "print (\"x[x > 2]:\\n\", x[x > 2])"
      ],
      "execution_count": 17,
      "outputs": [
        {
          "output_type": "stream",
          "name": "stdout",
          "text": [
            "x:\n",
            " [[1 2]\n",
            " [3 4]\n",
            " [5 6]]\n",
            "x > 2:\n",
            " [[False False]\n",
            " [ True  True]\n",
            " [ True  True]]\n",
            "x[x > 2]:\n",
            " [3 4 5 6]\n"
          ]
        }
      ]
    },
    {
      "metadata": {
        "id": "77RCjrQ8gvYW"
      },
      "cell_type": "markdown",
      "source": [
        "# 数组基础知识"
      ]
    },
    {
      "metadata": {
        "id": "1UJVcNCLfFrV",
        "outputId": "ef936bae-037c-40d7-8994-31c3ebbf543c",
        "colab": {
          "base_uri": "https://localhost:8080/"
        }
      },
      "cell_type": "code",
      "source": [
        "# 数学基础\n",
        "x = np.array([[1,2], [3,4]], dtype=np.float64)\n",
        "y = np.array([[1,2], [3,4]], dtype=np.float64)\n",
        "\n",
        "print(\"x:\\n\", x)\n",
        "print(\"y:\\n\", y)\n",
        "\n",
        "print (\"x + y:\\n\", np.add(x, y)) # or x + y\n",
        "\n",
        "print (\"x - y:\\n\", np.subtract(x, y)) # or x - y\n",
        "\n",
        "print (\"x * y:\\n\", np.multiply(x, y)) # or x * y"
      ],
      "execution_count": 19,
      "outputs": [
        {
          "output_type": "stream",
          "name": "stdout",
          "text": [
            "x:\n",
            " [[1. 2.]\n",
            " [3. 4.]]\n",
            "y:\n",
            " [[1. 2.]\n",
            " [3. 4.]]\n",
            "x + y:\n",
            " [[2. 4.]\n",
            " [6. 8.]]\n",
            "x - y:\n",
            " [[0. 0.]\n",
            " [0. 0.]]\n",
            "x * y:\n",
            " [[ 1.  4.]\n",
            " [ 9. 16.]]\n"
          ]
        }
      ]
    },
    {
      "metadata": {
        "id": "1BV0nSIliMC6"
      },
      "cell_type": "markdown",
      "source": [
        "<img src=\"https://raw.githubusercontent.com/LisonEvf/practicalAI-cn/master/images/matrix.png\" width=400>\n"
      ]
    },
    {
      "metadata": {
        "id": "XyZVF6gXhTWd",
        "outputId": "9c79ba82-4efc-4867-ae25-07f3af71f76a",
        "colab": {
          "base_uri": "https://localhost:8080/"
        }
      },
      "cell_type": "code",
      "source": [
        "# 点积\n",
        "a = np.array([[1,2,3], [4,5,6]], dtype=np.float64) # 我们可以指定dtype\n",
        "b = np.array([[7,8], [9,10], [11, 12]], dtype=np.float64)\n",
        "\n",
        "print(\"a:\\n\", a)\n",
        "print(\"b:\\n\", b)\n",
        "\n",
        "print(a.dot(b))"
      ],
      "execution_count": 22,
      "outputs": [
        {
          "output_type": "stream",
          "name": "stdout",
          "text": [
            "a:\n",
            " [[1. 2. 3.]\n",
            " [4. 5. 6.]]\n",
            "b:\n",
            " [[ 7.  8.]\n",
            " [ 9. 10.]\n",
            " [11. 12.]]\n",
            "[[ 58.  64.]\n",
            " [139. 154.]]\n"
          ]
        }
      ]
    },
    {
      "metadata": {
        "id": "7pB-H-7phsku",
        "outputId": "d603ce11-b5f5-46e2-fd60-bde54e04460f",
        "colab": {
          "base_uri": "https://localhost:8080/"
        }
      },
      "cell_type": "code",
      "source": [
        "# 跨维度求和\n",
        "x = np.array([[1,2],[3,4]])\n",
        "print (x)\n",
        "print (\"sum all: \", np.sum(x)) # 将所有元素相加\n",
        "print (\"sum by col: \", np.sum(x, axis=0)) # 逐列将元素相加\n",
        "print (\"sum by row: \", np.sum(x, axis=1)) # 逐行将元素相加"
      ],
      "execution_count": 23,
      "outputs": [
        {
          "output_type": "stream",
          "name": "stdout",
          "text": [
            "[[1 2]\n",
            " [3 4]]\n",
            "sum all:  10\n",
            "sum by col:  [4 6]\n",
            "sum by row:  [3 7]\n"
          ]
        }
      ]
    },
    {
      "metadata": {
        "id": "pLDG49LrijgA",
        "outputId": "7a64809c-4092-4990-9e69-1d988339003e",
        "colab": {
          "base_uri": "https://localhost:8080/"
        }
      },
      "cell_type": "code",
      "source": [
        "# 转置\n",
        "print (\"x:\\n\", x)\n",
        "print (\"x.T:\\n\", x.T)"
      ],
      "execution_count": 24,
      "outputs": [
        {
          "output_type": "stream",
          "name": "stdout",
          "text": [
            "x:\n",
            " [[1 2]\n",
            " [3 4]]\n",
            "x.T:\n",
            " [[1 3]\n",
            " [2 4]]\n"
          ]
        }
      ]
    },
    {
      "metadata": {
        "id": "KdPKVKtwkWnw"
      },
      "cell_type": "markdown",
      "source": [
        "# 数组高级知识"
      ]
    },
    {
      "metadata": {
        "id": "U_j2fCcjkEyo",
        "outputId": "cae34063-a1cb-405a-e155-35390be59c1a",
        "colab": {
          "base_uri": "https://localhost:8080/"
        }
      },
      "cell_type": "code",
      "source": [
        "# np.tile：重复维度\n",
        "x = np.array([[1,2], [3,4]])\n",
        "y = np.array([5, 6])\n",
        "\n",
        "print(len(x))\n",
        "\n",
        "addent = np.tile(y, (len(x), 1))\n",
        "# addent = np.tile(y, len(x))\n",
        "print (\"addent: \\n\", addent)\n",
        "\n",
        "z = x + addent\n",
        "print (\"z:\\n\", z)"
      ],
      "execution_count": 31,
      "outputs": [
        {
          "output_type": "stream",
          "name": "stdout",
          "text": [
            "2\n",
            "addent: \n",
            " [[5 6]\n",
            " [5 6]]\n",
            "z:\n",
            " [[ 6  8]\n",
            " [ 8 10]]\n"
          ]
        }
      ]
    },
    {
      "metadata": {
        "id": "1NsoFVo0mfQ4",
        "outputId": "78e70c9f-c80e-4977-b8c7-3816a764d066",
        "colab": {
          "base_uri": "https://localhost:8080/"
        }
      },
      "cell_type": "code",
      "source": [
        "# 广播（broadcasting）\n",
        "x = np.array([[1,2], [3,4]])\n",
        "y = np.array([5, 6])\n",
        "z = x + y\n",
        "print (\"z:\\n\", z)"
      ],
      "execution_count": 32,
      "outputs": [
        {
          "output_type": "stream",
          "name": "stdout",
          "text": [
            "z:\n",
            " [[ 6  8]\n",
            " [ 8 10]]\n"
          ]
        }
      ]
    },
    {
      "metadata": {
        "id": "RdEHrnMTnO6k",
        "outputId": "ac3935f3-11b8-46b6-d420-332da10c3ec0",
        "colab": {
          "base_uri": "https://localhost:8080/"
        }
      },
      "cell_type": "code",
      "source": [
        "# 改变维度\n",
        "x = np.array([[1,2], [3,4], [5,6]])\n",
        "print (x)\n",
        "print (\"x.shape: \", x.shape)\n",
        "y = np.reshape(x, (2, 3))\n",
        "print (\"y.shape: \", y.shape)\n",
        "print (\"y: \\n\", y)"
      ],
      "execution_count": 33,
      "outputs": [
        {
          "output_type": "stream",
          "name": "stdout",
          "text": [
            "[[1 2]\n",
            " [3 4]\n",
            " [5 6]]\n",
            "x.shape:  (3, 2)\n",
            "y.shape:  (2, 3)\n",
            "y: \n",
            " [[1 2 3]\n",
            " [4 5 6]]\n"
          ]
        }
      ]
    },
    {
      "metadata": {
        "id": "tE1BmoJuns70",
        "outputId": "85cdc9e8-4c64-40d3-bf4d-e4dfbd72ea49",
        "colab": {
          "base_uri": "https://localhost:8080/"
        }
      },
      "cell_type": "code",
      "source": [
        "# 删除维度\n",
        "x = np.array([[[1,2,1]],[[2,2,3]]])\n",
        "# x = np.array([[[[1,2,1],[2,2,3]]]])\n",
        "print (\"x.shape: \", x.shape)\n",
        "y = np.squeeze(x, axis=1) # 删除维度1\n",
        "print (\"y.shape: \", y.shape)\n",
        "print (\"y: \\n\", y)"
      ],
      "execution_count": 51,
      "outputs": [
        {
          "output_type": "stream",
          "name": "stdout",
          "text": [
            "x.shape:  (2, 1, 3)\n",
            "y.shape:  (2, 3)\n",
            "y: \n",
            " [[1 2 1]\n",
            " [2 2 3]]\n"
          ]
        }
      ]
    },
    {
      "metadata": {
        "id": "LNYJRMF4qvXN",
        "outputId": "37058911-0b0e-46d1-a9bc-5280fcb477d4",
        "colab": {
          "base_uri": "https://localhost:8080/"
        }
      },
      "cell_type": "code",
      "source": [
        "# 添加维度\n",
        "x = np.array([[1,2,1],[2,2,3]])\n",
        "print (\"x.shape: \", x.shape)\n",
        "y = np.expand_dims(x, 1) # 扩展维度1\n",
        "print (\"y.shape: \", y.shape)\n",
        "print (\"y: \\n\", y)"
      ],
      "execution_count": 53,
      "outputs": [
        {
          "output_type": "stream",
          "name": "stdout",
          "text": [
            "x.shape:  (2, 3)\n",
            "y.shape:  (2, 1, 3)\n",
            "y: \n",
            " [[[1 2 1]]\n",
            "\n",
            " [[2 2 3]]]\n"
          ]
        }
      ]
    },
    {
      "metadata": {
        "id": "XthM4y7SotAH"
      },
      "cell_type": "markdown",
      "source": [
        "# 其它资源"
      ]
    },
    {
      "metadata": {
        "id": "3KmESFstrbFS"
      },
      "cell_type": "markdown",
      "source": [
        "你不必熟悉本文中任何东西，因为我们将在后面的课程中仔细研究NumPy。如果你对Numpy感到好奇，可以自行查看 [NumPy reference manual](https://docs.scipy.org/doc/numpy-1.15.1/reference/)."
      ]
    },
    {
      "metadata": {
        "id": "NpI4jhxjwbol"
      },
      "cell_type": "code",
      "source": [],
      "execution_count": null,
      "outputs": []
    }
  ]
}